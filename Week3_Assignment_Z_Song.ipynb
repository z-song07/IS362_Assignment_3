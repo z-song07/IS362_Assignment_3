{
 "cells": [
  {
   "cell_type": "code",
   "execution_count": 1,
   "id": "94c769d9",
   "metadata": {},
   "outputs": [],
   "source": [
    "import pandas as pd\n",
    "import numpy as np"
   ]
  },
  {
   "cell_type": "markdown",
   "id": "a5c25133",
   "metadata": {},
   "source": [
    "### The road distance between New York City and Key West is 1443 miles"
   ]
  },
  {
   "cell_type": "code",
   "execution_count": 2,
   "id": "f6b270c8",
   "metadata": {},
   "outputs": [
    {
     "name": "stdout",
     "output_type": "stream",
     "text": [
      "1       55\n",
      "2      120\n",
      "3      183\n",
      "4      259\n",
      "5      313\n",
      "6      386\n",
      "7      456\n",
      "8      525\n",
      "9      582\n",
      "10     646\n",
      "11     709\n",
      "12     770\n",
      "13     829\n",
      "14     885\n",
      "15     948\n",
      "16    1001\n",
      "17    1071\n",
      "18    1136\n",
      "19    1198\n",
      "20    1252\n",
      "21    1319\n",
      "22    1383\n",
      "23    1443\n",
      "dtype: int64\n"
     ]
    }
   ],
   "source": [
    "# create a numpy array\n",
    "mile_log = np.array([55, 120, 183, 259, 313, 386, 456, 525, 582, 646, 709, 770, 829, 885, 948, 1001, 1071, 1136, 1198, 1252, 1319, 1383, 1443])\n",
    "\n",
    "# create a series from numpy array\n",
    "ml = pd.Series(mile_log, range(1, len(mile_log) + 1))\n",
    "print(ml)"
   ]
  },
  {
   "cell_type": "code",
   "execution_count": 3,
   "id": "52d74acd",
   "metadata": {},
   "outputs": [
    {
     "name": "stdout",
     "output_type": "stream",
     "text": [
      "On Day 1, I rode 55 miles. The current cumulative miles is 55.\n",
      "On Day 2, I rode 65 miles. The current cumulative miles is 120.\n",
      "On Day 3, I rode 63 miles. The current cumulative miles is 183.\n",
      "On Day 4, I rode 76 miles. The current cumulative miles is 259.\n",
      "On Day 5, I rode 54 miles. The current cumulative miles is 313.\n",
      "On Day 6, I rode 73 miles. The current cumulative miles is 386.\n",
      "On Day 7, I rode 70 miles. The current cumulative miles is 456.\n",
      "On Day 8, I rode 69 miles. The current cumulative miles is 525.\n",
      "On Day 9, I rode 57 miles. The current cumulative miles is 582.\n",
      "On Day 10, I rode 64 miles. The current cumulative miles is 646.\n",
      "On Day 11, I rode 63 miles. The current cumulative miles is 709.\n",
      "On Day 12, I rode 61 miles. The current cumulative miles is 770.\n",
      "On Day 13, I rode 59 miles. The current cumulative miles is 829.\n",
      "On Day 14, I rode 56 miles. The current cumulative miles is 885.\n",
      "On Day 15, I rode 63 miles. The current cumulative miles is 948.\n",
      "On Day 16, I rode 53 miles. The current cumulative miles is 1001.\n",
      "On Day 17, I rode 70 miles. The current cumulative miles is 1071.\n",
      "On Day 18, I rode 65 miles. The current cumulative miles is 1136.\n",
      "On Day 19, I rode 62 miles. The current cumulative miles is 1198.\n",
      "On Day 20, I rode 54 miles. The current cumulative miles is 1252.\n",
      "On Day 21, I rode 67 miles. The current cumulative miles is 1319.\n",
      "On Day 22, I rode 64 miles. The current cumulative miles is 1383.\n",
      "On Day 23, I rode 60 miles. The current cumulative miles is 1443.\n"
     ]
    }
   ],
   "source": [
    "# display miles each day and cumulative miles of the day\n",
    "for idx, current in ml.items():\n",
    "    daily_miles = current\n",
    "    \n",
    "    ## handles error since index 0 does not exist\n",
    "    try:\n",
    "        previous = ml[idx - 1]\n",
    "        daily_miles = current - previous\n",
    "    except:\n",
    "        None\n",
    "        \n",
    "    print(f\"On Day {idx}, I rode {daily_miles} miles. The current cumulative miles is {current}.\")"
   ]
  },
  {
   "cell_type": "code",
   "execution_count": null,
   "id": "c135bcc5",
   "metadata": {},
   "outputs": [],
   "source": []
  }
 ],
 "metadata": {
  "kernelspec": {
   "display_name": "Python 3 (ipykernel)",
   "language": "python",
   "name": "python3"
  },
  "language_info": {
   "codemirror_mode": {
    "name": "ipython",
    "version": 3
   },
   "file_extension": ".py",
   "mimetype": "text/x-python",
   "name": "python",
   "nbconvert_exporter": "python",
   "pygments_lexer": "ipython3",
   "version": "3.11.1"
  }
 },
 "nbformat": 4,
 "nbformat_minor": 5
}
